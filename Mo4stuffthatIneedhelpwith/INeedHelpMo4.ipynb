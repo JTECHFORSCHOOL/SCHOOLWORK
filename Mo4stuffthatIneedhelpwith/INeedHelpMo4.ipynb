{
 "cells": [
  {
   "cell_type": "code",
   "execution_count": null,
   "id": "3e588bd1",
   "metadata": {},
   "outputs": [],
   "source": [
    "#This file should be named Zoo\n",
    "def hours():\n",
    "    print(\"Open from 9-5\")"
   ]
  },
  {
   "cell_type": "code",
   "execution_count": 4,
   "id": "db6600b7",
   "metadata": {},
   "outputs": [
    {
     "ename": "ModuleNotFoundError",
     "evalue": "No module named 'Zoo'",
     "output_type": "error",
     "traceback": [
      "\u001b[1;31m---------------------------------------------------------------------------\u001b[0m",
      "\u001b[1;31mModuleNotFoundError\u001b[0m                       Traceback (most recent call last)",
      "Cell \u001b[1;32mIn[4], line 1\u001b[0m\n\u001b[1;32m----> 1\u001b[0m \u001b[38;5;28;01mimport\u001b[39;00m \u001b[38;5;21;01mZoo\u001b[39;00m \u001b[38;5;28;01mas\u001b[39;00m \u001b[38;5;21;01mmenagerie\u001b[39;00m\n\u001b[0;32m      3\u001b[0m menagerie\u001b[38;5;241m.\u001b[39mhours()\n",
      "\u001b[1;31mModuleNotFoundError\u001b[0m: No module named 'Zoo'"
     ]
    }
   ],
   "source": [
    "import Zoo as menagerie\n",
    "\n",
    "menagerie.hours()\n",
    "# made the Zoo file in another file so it will work."
   ]
  },
  {
   "cell_type": "code",
   "execution_count": 20,
   "id": "d2bd173a",
   "metadata": {},
   "outputs": [],
   "source": [
    "#makes database for the next page\n",
    "import sqlite3\n",
    "books = sqlite3.connect(\"books.db\")\n",
    "b = books.cursor()\n",
    "\n",
    "books_list = [\n",
    "    (\"The Weirdstone of Brisingamen\" , \"Alan Garner\" , 1960),\n",
    "    (\"Perdido Street Station\" , \"China Miéville\" , 2000),\n",
    "    (\"Thud!\" , \"Terry Pratchett\" , 2005),\n",
    "    (\"The Spellman Files\" , \"Lisa Lutz\" , 2007),\n",
    "    (\"Small Gods\" , \"Terry Pratchett\" ,1992)\n",
    "]\n",
    "\n",
    "b.execute(\"\"\"CREATE TABLE IF NOT EXISTS books \n",
    "        (title TEXT,\n",
    "        author TEXT,\n",
    "        year INT)\"\"\")\n",
    "b.executemany(\"\"\"\n",
    "    INSERT INTO books (title ,author ,year) VALUES (?,?,?)\n",
    "    \"\"\",books_list)\n",
    "books.commit()\n",
    "\n",
    "\n",
    "\n"
   ]
  },
  {
   "cell_type": "code",
   "execution_count": 31,
   "id": "d9a3a2e1",
   "metadata": {},
   "outputs": [
    {
     "ename": "AttributeError",
     "evalue": "'sqlite3.Cursor' object has no attribute 'title'",
     "output_type": "error",
     "traceback": [
      "\u001b[1;31m---------------------------------------------------------------------------\u001b[0m",
      "\u001b[1;31mAttributeError\u001b[0m                            Traceback (most recent call last)",
      "Cell \u001b[1;32mIn[31], line 9\u001b[0m\n\u001b[0;32m      7\u001b[0m counter \u001b[38;5;241m=\u001b[39m \u001b[38;5;241m0\u001b[39m\n\u001b[0;32m      8\u001b[0m \u001b[38;5;28;01mfor\u001b[39;00m row \u001b[38;5;129;01min\u001b[39;00m b\u001b[38;5;241m.\u001b[39mexecute(\u001b[38;5;124m\"\u001b[39m\u001b[38;5;124mSELECT title From books\u001b[39m\u001b[38;5;124m\"\u001b[39m):\n\u001b[1;32m----> 9\u001b[0m     lister\u001b[38;5;241m.\u001b[39mappend(b\u001b[38;5;241m.\u001b[39mtitle)\n\u001b[0;32m     10\u001b[0m \u001b[38;5;28mprint\u001b[39m(lister)\n",
      "\u001b[1;31mAttributeError\u001b[0m: 'sqlite3.Cursor' object has no attribute 'title'"
     ]
    }
   ],
   "source": [
    "# Use the sqlalchemy module to connect to the sqlite3 database books.db that you just made in exercise 16.4. As in 16.6, select and print the title column from the book table in alphabetical order.\n",
    "# I am unable to do this since I am unable to do this and I have been searching for a solution for close to 18 hours now please help me find out what I am doing wrong and let me fix it. \n",
    "import sqlite3\n",
    "conn = sqlite3.connect(\"books.db\")\n",
    "b = books.cursor()\n",
    "lister = []\n",
    "counter = 0\n",
    "for row in b.execute(\"SELECT title From books\"):\n",
    "    lister.append(row)\n",
    "print(lister)"
   ]
  },
  {
   "cell_type": "code",
   "execution_count": null,
   "id": "12dcb888",
   "metadata": {},
   "outputs": [],
   "source": []
  },
  {
   "cell_type": "code",
   "execution_count": null,
   "id": "94c0707e",
   "metadata": {},
   "outputs": [],
   "source": []
  }
 ],
 "metadata": {
  "kernelspec": {
   "display_name": "Python 3 (ipykernel)",
   "language": "python",
   "name": "python3"
  },
  "language_info": {
   "codemirror_mode": {
    "name": "ipython",
    "version": 3
   },
   "file_extension": ".py",
   "mimetype": "text/x-python",
   "name": "python",
   "nbconvert_exporter": "python",
   "pygments_lexer": "ipython3",
   "version": "3.11.5"
  }
 },
 "nbformat": 4,
 "nbformat_minor": 5
}
