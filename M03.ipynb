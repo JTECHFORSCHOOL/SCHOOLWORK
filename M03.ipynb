{
 "cells": [
  {
   "cell_type": "code",
   "execution_count": 7,
   "id": "f084d097",
   "metadata": {},
   "outputs": [
    {
     "name": "stdout",
     "output_type": "stream",
     "text": [
      "['mozzarella', 'cinderella', 'salmonella']\n",
      "['mozzarella', 'Cinderella', 'salmonella']\n",
      "['MOZZAREELLA', 'Cinderella', 'salmonella']\n",
      "['MOZZAREELLA', 'Cinderella']\n"
     ]
    }
   ],
   "source": [
    "#7.4 if you want this serprated let me know, and I left a note one the comand line bit in M02 could you look a that please.\n",
    "things = [\"mozzarella\", \"cinderella\", \"salmonella\"]\n",
    "print(things)\n",
    "#7.5 atempt to use .capitalize() was met with <built-in method capitalize of str object at 0x000001AA11C05970>.\n",
    "things[1] = \"Cinderella\"\n",
    "print(things)\n",
    "#7.6 atempt to use .upper() was met with <built-in method capitalize of str object at 0x000001AA11C05970>\n",
    "things[0] = \"MOZZAREELLA\"\n",
    "print(things)\n",
    "#7.7 salmonella detonated prize obtained \n",
    "things.remove(\"salmonella\")\n",
    "print(things)\n"
   ]
  },
  {
   "cell_type": "code",
   "execution_count": 9,
   "id": "3605602f",
   "metadata": {},
   "outputs": [
    {
     "name": "stdout",
     "output_type": "stream",
     "text": [
      "Harry', 'Ron', 'Hermione\n"
     ]
    }
   ],
   "source": [
    "#9.1\n",
    "def good():\n",
    "    print(\"Harry, Ron, Hermione\")\n",
    "good()"
   ]
  },
  {
   "cell_type": "code",
   "execution_count": 10,
   "id": "6cb3cf8b",
   "metadata": {},
   "outputs": [
    {
     "name": "stdout",
     "output_type": "stream",
     "text": [
      "5\n"
     ]
    }
   ],
   "source": [
    "9.2\n",
    "def get_odds():\n",
    "    count = 0\n",
    "    for i in range(10):\n",
    "        if i % 2 > 0:\n",
    "            count += 1\n",
    "            if count == 3:\n",
    "                print(i)\n",
    "get_odds()"
   ]
  },
  {
   "cell_type": "code",
   "execution_count": null,
   "id": "83bb77ad",
   "metadata": {},
   "outputs": [],
   "source": []
  }
 ],
 "metadata": {
  "kernelspec": {
   "display_name": "Python 3 (ipykernel)",
   "language": "python",
   "name": "python3"
  },
  "language_info": {
   "codemirror_mode": {
    "name": "ipython",
    "version": 3
   },
   "file_extension": ".py",
   "mimetype": "text/x-python",
   "name": "python",
   "nbconvert_exporter": "python",
   "pygments_lexer": "ipython3",
   "version": "3.11.5"
  }
 },
 "nbformat": 4,
 "nbformat_minor": 5
}
