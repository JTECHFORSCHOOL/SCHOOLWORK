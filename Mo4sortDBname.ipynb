{
 "cells": [
  {
   "cell_type": "code",
   "execution_count": null,
   "id": "a6d5001c",
   "metadata": {},
   "outputs": [],
   "source": [
    "#This file should be named Zoo\n",
    "def hours():\n",
    "    print(\"Open from 9-5\")"
   ]
  },
  {
   "cell_type": "code",
   "execution_count": 4,
   "id": "4ae4370e",
   "metadata": {},
   "outputs": [
    {
     "ename": "ModuleNotFoundError",
     "evalue": "No module named 'Zoo'",
     "output_type": "error",
     "traceback": [
      "\u001b[1;31m---------------------------------------------------------------------------\u001b[0m",
      "\u001b[1;31mModuleNotFoundError\u001b[0m                       Traceback (most recent call last)",
      "Cell \u001b[1;32mIn[4], line 1\u001b[0m\n\u001b[1;32m----> 1\u001b[0m \u001b[38;5;28;01mimport\u001b[39;00m \u001b[38;5;21;01mZoo\u001b[39;00m \u001b[38;5;28;01mas\u001b[39;00m \u001b[38;5;21;01mmenagerie\u001b[39;00m\n\u001b[0;32m      3\u001b[0m menagerie\u001b[38;5;241m.\u001b[39mhours()\n",
      "\u001b[1;31mModuleNotFoundError\u001b[0m: No module named 'Zoo'"
     ]
    }
   ],
   "source": [
    "import Zoo as menagerie\n",
    "\n",
    "menagerie.hours()\n",
    "# made the Zoo file in another file so it will work."
   ]
  },
  {
   "cell_type": "code",
   "execution_count": 20,
   "id": "7fe0d267",
   "metadata": {},
   "outputs": [],
   "source": [
    "#makes database for the next page\n",
    "import sqlite3\n",
    "books = sqlite3.connect(\"books.db\")\n",
    "b = books.cursor()\n",
    "\n",
    "books_list = [\n",
    "    (\"The Weirdstone of Brisingamen\" , \"Alan Garner\" , 1960),\n",
    "    (\"Perdido Street Station\" , \"China Miéville\" , 2000),\n",
    "    (\"Thud!\" , \"Terry Pratchett\" , 2005),\n",
    "    (\"The Spellman Files\" , \"Lisa Lutz\" , 2007),\n",
    "    (\"Small Gods\" , \"Terry Pratchett\" ,1992)\n",
    "]\n",
    "\n",
    "b.execute(\"\"\"CREATE TABLE IF NOT EXISTS books \n",
    "        (title TEXT,\n",
    "        author TEXT,\n",
    "        year INT)\"\"\")\n",
    "b.executemany(\"\"\"\n",
    "    INSERT INTO books (title ,author ,year) VALUES (?,?,?)\n",
    "    \"\"\",books_list)\n",
    "books.commit()\n",
    "\n",
    "\n",
    "\n"
   ]
  },
  {
   "cell_type": "code",
   "execution_count": 1,
   "id": "848df60b",
   "metadata": {
    "scrolled": true
   },
   "outputs": [
    {
     "name": "stdout",
     "output_type": "stream",
     "text": [
      "Requirement already satisfied: sqlalchemy in c:\\users\\katba\\anaconda3\\lib\\site-packages (1.4.39)Note: you may need to restart the kernel to use updated packages.\n",
      "\n",
      "Requirement already satisfied: greenlet!=0.4.17 in c:\\users\\katba\\anaconda3\\lib\\site-packages (from sqlalchemy) (2.0.1)\n"
     ]
    }
   ],
   "source": [
    "pip install sqlalchemy"
   ]
  },
  {
   "cell_type": "code",
   "execution_count": null,
   "id": "631cd4b5",
   "metadata": {},
   "outputs": [],
   "source": []
  },
  {
   "cell_type": "code",
   "execution_count": 7,
   "id": "0132a211",
   "metadata": {},
   "outputs": [
    {
     "name": "stdout",
     "output_type": "stream",
     "text": [
      "Perdido Street Station\n",
      "Perdido Street Station\n",
      "Perdido Street Station\n",
      "Small Gods\n",
      "Small Gods\n",
      "Small Gods\n",
      "The Spellman Files\n",
      "The Spellman Files\n",
      "The Spellman Files\n",
      "The Weirdstone of Brisingamen\n",
      "The Weirdstone of Brisingamen\n",
      "The Weirdstone of Brisingamen\n",
      "Thud!\n",
      "Thud!\n",
      "Thud!\n"
     ]
    }
   ],
   "source": [
    "import sqlalchemy as sa\n",
    "\n",
    "conn = sa.create_engine('sqlite:///books.db')\n",
    "data = conn.execute('select title from Books order by title')\n",
    "for title in data:\n",
    "    print(title[0])"
   ]
  },
  {
   "cell_type": "code",
   "execution_count": null,
   "id": "1c1ddc40",
   "metadata": {},
   "outputs": [],
   "source": []
  }
 ],
 "metadata": {
  "kernelspec": {
   "display_name": "Python 3 (ipykernel)",
   "language": "python",
   "name": "python3"
  },
  "language_info": {
   "codemirror_mode": {
    "name": "ipython",
    "version": 3
   },
   "file_extension": ".py",
   "mimetype": "text/x-python",
   "name": "python",
   "nbconvert_exporter": "python",
   "pygments_lexer": "ipython3",
   "version": "3.11.5"
  }
 },
 "nbformat": 4,
 "nbformat_minor": 5
}
