{
 "cells": [
  {
   "cell_type": "code",
   "execution_count": 6,
   "id": "9779ea04",
   "metadata": {},
   "outputs": [
    {
     "name": "stdout",
     "output_type": "stream",
     "text": [
      "What do you guess?(1-10)10\n",
      "too high\n",
      "What do you guess?(1-10)8\n",
      "too high\n",
      "What do you guess?(1-10)3\n",
      "too high\n",
      "What do you guess?(1-10)2\n",
      "too high\n",
      "What do you guess?(1-10)1\n",
      "corect\n"
     ]
    }
   ],
   "source": [
    "import random \n",
    "secret = random.randint(1,10)\n",
    "guess = -1\n",
    "while guess != secret:\n",
    "    guess = int(input(\"What do you guess?(1-10)\"))\n",
    "    if guess < secret:\n",
    "        print(\"too low\")\n",
    "    if guess > secret:\n",
    "        print(\"too high\")\n",
    "    if guess == secret:\n",
    "        print(\"corect\")\n",
    "        break"
   ]
  },
  {
   "cell_type": "code",
   "execution_count": 13,
   "id": "0049fa21",
   "metadata": {},
   "outputs": [
    {
     "name": "stdout",
     "output_type": "stream",
     "text": [
      "0 is no. 1 is yes\n",
      "is green0\n",
      "is small1\n",
      "cherry\n"
     ]
    }
   ],
   "source": [
    "#set up\n",
    "green = False\n",
    "small = False\n",
    "\n",
    "#input\n",
    "print(\"0 is no. 1 is yes\")\n",
    "checkG = int(input(\"is green\"))\n",
    "checkS = int(input(\"is small\"))\n",
    "\n",
    "#brain/body\n",
    "if checkG == 1:\n",
    "    green = True\n",
    "if checkS == 1:\n",
    "    small = True\n",
    "    \n",
    "if green == True and small == True:\n",
    "    print(\"pea\")\n",
    "        \n",
    "if green == False and small == True:\n",
    "    print(\"cherry\")\n",
    "        \n",
    "if green == True and small == False:\n",
    "    print(\"watermelon\")\n",
    "        \n",
    "if green == False and small == False:\n",
    "    print(\"pumpkin\")"
   ]
  },
  {
   "cell_type": "code",
   "execution_count": 14,
   "id": "949d14da",
   "metadata": {},
   "outputs": [
    {
     "name": "stdout",
     "output_type": "stream",
     "text": [
      "3\n",
      "2\n",
      "1\n",
      "0\n"
     ]
    }
   ],
   "source": [
    "for x in range(3, -1, -1):\n",
    "    print(x)"
   ]
  },
  {
   "cell_type": "code",
   "execution_count": 16,
   "id": "ba6a7e1b",
   "metadata": {},
   "outputs": [
    {
     "name": "stdout",
     "output_type": "stream",
     "text": [
      "too low\n",
      "too low\n",
      "too low\n",
      "too low\n",
      "too low\n",
      "too low\n",
      "found it\n"
     ]
    }
   ],
   "source": [
    "guessMe = 7\n",
    "number = 1\n",
    "while True:\n",
    "    if number < guessMe:\n",
    "        print(\"too low\")\n",
    "    if number > guessMe:\n",
    "        print(\"oops\")\n",
    "        break\n",
    "    if number == guessMe:\n",
    "        print(\"found it\")\n",
    "        break\n",
    "    number = number + 1"
   ]
  },
  {
   "cell_type": "code",
   "execution_count": 22,
   "id": "50511727",
   "metadata": {},
   "outputs": [
    {
     "name": "stdout",
     "output_type": "stream",
     "text": [
      "too low\n",
      "too low\n",
      "too low\n",
      "too low\n",
      "too low\n",
      "oops\n"
     ]
    }
   ],
   "source": [
    "import random \n",
    "guessMe = 5\n",
    "number = random.randint(1,3)\n",
    "while True:\n",
    "    for i in range(10):\n",
    "        number = number + random.randint(1,3)\n",
    "        number = number - random.randint(1,3)\n",
    "    if number < guessMe:\n",
    "        print(\"too low\")\n",
    "    if number > guessMe:\n",
    "        print(\"oops\")\n",
    "        break\n",
    "    if number == guessMe:\n",
    "        print(\"found it\")\n",
    "        break"
   ]
  },
  {
   "cell_type": "code",
   "execution_count": null,
   "id": "3fe0919d",
   "metadata": {},
   "outputs": [],
   "source": []
  },
  {
   "cell_type": "code",
   "execution_count": null,
   "id": "9dfa4a95",
   "metadata": {},
   "outputs": [],
   "source": []
  }
 ],
 "metadata": {
  "kernelspec": {
   "display_name": "Python 3 (ipykernel)",
   "language": "python",
   "name": "python3"
  },
  "language_info": {
   "codemirror_mode": {
    "name": "ipython",
    "version": 3
   },
   "file_extension": ".py",
   "mimetype": "text/x-python",
   "name": "python",
   "nbconvert_exporter": "python",
   "pygments_lexer": "ipython3",
   "version": "3.11.5"
  }
 },
 "nbformat": 4,
 "nbformat_minor": 5
}
